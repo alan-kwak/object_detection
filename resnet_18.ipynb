{
 "cells": [
  {
   "cell_type": "markdown",
   "metadata": {},
   "source": [
    "# Make Resnet"
   ]
  },
  {
   "cell_type": "code",
   "execution_count": 65,
   "metadata": {},
   "outputs": [],
   "source": [
    "import torch\n",
    "import torch.nn as nn\n",
    "import torch.nn.functional as F\n",
    "from torchvision import datasets, transforms\n",
    "from torch.utils.data import DataLoader\n",
    "import torch.optim as optim\n",
    "import pandas as pd\n",
    "import numpy as np\n",
    "import matplotlib.pyplot as plt\n",
    "import os\n",
    "import tqdm\n",
    "import time"
   ]
  },
  {
   "cell_type": "markdown",
   "metadata": {},
   "source": [
    "### 1. Data preprocessing"
   ]
  },
  {
   "cell_type": "code",
   "execution_count": 66,
   "metadata": {},
   "outputs": [
    {
     "name": "stdout",
     "output_type": "stream",
     "text": [
      "Files already downloaded and verified\n",
      "Files already downloaded and verified\n"
     ]
    }
   ],
   "source": [
    "BATCH_SIZE = 100\n",
    "LAYER_NM = 18\n",
    "path_data = './data'\n",
    "\n",
    "if not os.path.exists(path_data):\n",
    "    os.mkdir(path_data)\n",
    "\n",
    "transform_ = transforms.Compose([\n",
    "    transforms.ToTensor(),\n",
    "    transforms.Normalize((0.4914, 0.4822, 0.4465), (0.2023, 0.1994, 0.2010)),\n",
    "])\n",
    "train_data = datasets.CIFAR10(root=path_data, train=True, download=True, transform=transform_)\n",
    "test_data = datasets.CIFAR10(root=path_data, train=False, download=True, transform=transform_)\n",
    "\n",
    "train_loader = DataLoader(train_data,batch_size=BATCH_SIZE, shuffle=True, num_workers=2, drop_last=True)\n",
    "test_loader = DataLoader(test_data,batch_size=BATCH_SIZE, shuffle=False, num_workers=2, drop_last=True)\n",
    "\n",
    "# define classes\n",
    "classes = ('plane', 'car', 'bird', 'cat', 'deer', 'dog', 'frog', 'horse', 'ship', 'truck')"
   ]
  },
  {
   "cell_type": "code",
   "execution_count": 67,
   "metadata": {},
   "outputs": [
    {
     "name": "stdout",
     "output_type": "stream",
     "text": [
      "torch.Size([3, 32, 32])\n",
      "torch.Size([100, 3, 32, 32])\n"
     ]
    }
   ],
   "source": [
    "print(next(iter(train_data))[0].size())\n",
    "print(next(iter(train_loader))[0].size())"
   ]
  },
  {
   "cell_type": "markdown",
   "metadata": {},
   "source": [
    "### 2. Build Model"
   ]
  },
  {
   "cell_type": "code",
   "execution_count": 68,
   "metadata": {},
   "outputs": [],
   "source": [
    "def conv_kernel_1(in_dim, out_dim, stride=1):\n",
    "    model = nn.Sequential(\n",
    "        nn.Conv2d(in_dim, out_dim, kernel_size=1, stride=stride),\n",
    "        nn.BatchNorm2d(out_dim),\n",
    "        nn.ReLU()\n",
    "    )\n",
    "    return model\n",
    "\n",
    "def conv_kernel_3(in_dim, out_dim, stride=1):\n",
    "    model = nn.Sequential(\n",
    "        nn.Conv2d(in_dim, out_dim, kernel_size=3, stride=stride, padding=1),\n",
    "        nn.BatchNorm2d(out_dim),\n",
    "        nn.ReLU()\n",
    "    )\n",
    "    return model\n",
    "\n",
    "def conv_kernel_1_no_act(in_dim, out_dim, stride=1):\n",
    "    model = nn.Sequential(\n",
    "        nn.Conv2d(in_dim, out_dim, kernel_size=1, stride=stride),\n",
    "        nn.BatchNorm2d(out_dim)\n",
    "    )\n",
    "    return model\n",
    "\n",
    "def conv_kernel_3_no_act(in_dim, out_dim, stride=1):\n",
    "    model = nn.Sequential(\n",
    "        nn.Conv2d(in_dim, out_dim, kernel_size=3, stride=stride, padding=1),\n",
    "        nn.BatchNorm2d(out_dim)\n",
    "    )\n",
    "    return model"
   ]
  },
  {
   "cell_type": "code",
   "execution_count": 69,
   "metadata": {},
   "outputs": [],
   "source": [
    "class ResBlock(nn.Module):\n",
    "    def __init__(self, in_dim, out_dim, down=True, pre_dim=64):\n",
    "        super().__init__()\n",
    "        \n",
    "        self.down = down\n",
    "        self.activation = nn.ReLU()\n",
    "        self.conv1 = conv_kernel_3(in_dim, out_dim, stride=1)\n",
    "        self.conv2 = conv_kernel_3_no_act(in_dim, out_dim)      \n",
    "        if self.down is True:  \n",
    "            self.downconv = nn.Conv2d(pre_dim, in_dim, kernel_size=1, stride=2)\n",
    "\n",
    "    def forward(self, x):\n",
    "        if self.down is True:\n",
    "            out = self.downconv(x)\n",
    "        else:\n",
    "            out = x\n",
    "        x = self.conv1(out)\n",
    "        x = self.conv2(x)\n",
    "        x += out\n",
    "        x = self.activation(x)\n",
    "        return x"
   ]
  },
  {
   "cell_type": "code",
   "execution_count": 70,
   "metadata": {},
   "outputs": [],
   "source": [
    "class ResNet(nn.Module):\n",
    "    def __init__(self, model_d, y_dim):\n",
    "        super().__init__()\n",
    "        self.conv1 = nn.Conv2d(3, 64, kernel_size=3, stride=1)\n",
    "        self.maxpool = nn.MaxPool2d(3, stride=2)\n",
    "        self.block1 = ResBlock(64, 64, down=False)\n",
    "        self.block2 = ResBlock(64, 64, down=False)\n",
    "        self.block3 = ResBlock(128, 128, down=True, pre_dim=64)\n",
    "        self.block4 = ResBlock(128, 128, down=False, pre_dim=128)\n",
    "        self.block5 = ResBlock(256, 256, down=True, pre_dim=128)\n",
    "        self.block6 = ResBlock(256, 256, down=False, pre_dim=256)\n",
    "        self.block7 = ResBlock(512, 512, down=True, pre_dim=256)\n",
    "        self.block8 = ResBlock(512, 512, down=False, pre_dim=512)\n",
    "        self.avgpool = nn.AvgPool2d(kernel_size=2)\n",
    "        self.flatten = nn.Flatten()\n",
    "        self.fc_layer = nn.Linear(512, y_dim)\n",
    "    \n",
    "    def forward(self, x):\n",
    "        # print('start--', x.size())\n",
    "        x = self.conv1(x)\n",
    "        x = self.maxpool(x)\n",
    "        x = self.block1(x)\n",
    "        x = self.block2(x)\n",
    "        x = self.block3(x)\n",
    "        x = self.block4(x)\n",
    "        x = self.block5(x)\n",
    "        x = self.block6(x)\n",
    "        x = self.block7(x)\n",
    "        x = self.block8(x)\n",
    "        # print('before avgpool --', x.size())\n",
    "        x = self.avgpool(x)\n",
    "        x = x.view(BATCH_SIZE, -1).contiguous()\n",
    "        x = self.fc_layer(x)\n",
    "        return x"
   ]
  },
  {
   "cell_type": "markdown",
   "metadata": {},
   "source": [
    "### 3. Train"
   ]
  },
  {
   "cell_type": "code",
   "execution_count": 71,
   "metadata": {},
   "outputs": [
    {
     "name": "stdout",
     "output_type": "stream",
     "text": [
      "1024\n"
     ]
    },
    {
     "name": "stderr",
     "output_type": "stream",
     "text": [
      "100%|██████████| 100/100 [28:30<00:00, 17.10s/it]\n"
     ]
    }
   ],
   "source": [
    "device = 'cuda' if torch.cuda.is_available() else 'cpu'\n",
    "lr = 1e-3\n",
    "model_d = next(iter(train_loader))[0].size()[-2] * next(iter(train_loader))[0].size()[-1]\n",
    "print(model_d)\n",
    "y_dim = 10 # output class\n",
    "model = ResNet(model_d, y_dim).to(device)\n",
    "loss_func = nn.CrossEntropyLoss()\n",
    "optimizer = optim.Adam(model.parameters(), lr=lr)\n",
    "\n",
    "df_loss = pd.DataFrame(columns=['loss'])\n",
    "epochs = 100\n",
    "batch_size = len(train_loader)\n",
    "for i in tqdm.tqdm(range(epochs)):\n",
    "    running_loss = 0.\n",
    "    for image, label in train_loader:\n",
    "        x = image.to(device)\n",
    "        y = label.to(device)\n",
    "\n",
    "        optimizer.zero_grad()\n",
    "        output = model(x)\n",
    "        loss = loss_func(output, y)\n",
    "        loss.backward()\n",
    "        optimizer.step()\n",
    "        running_loss += loss.item()\n",
    "    df_loss.loc[i, 'loss'] = round(running_loss/batch_size, 4)"
   ]
  },
  {
   "cell_type": "code",
   "execution_count": 72,
   "metadata": {},
   "outputs": [
    {
     "data": {
      "text/html": [
       "<div>\n",
       "<style scoped>\n",
       "    .dataframe tbody tr th:only-of-type {\n",
       "        vertical-align: middle;\n",
       "    }\n",
       "\n",
       "    .dataframe tbody tr th {\n",
       "        vertical-align: top;\n",
       "    }\n",
       "\n",
       "    .dataframe thead th {\n",
       "        text-align: right;\n",
       "    }\n",
       "</style>\n",
       "<table border=\"1\" class=\"dataframe\">\n",
       "  <thead>\n",
       "    <tr style=\"text-align: right;\">\n",
       "      <th></th>\n",
       "      <th>loss</th>\n",
       "    </tr>\n",
       "  </thead>\n",
       "  <tbody>\n",
       "    <tr>\n",
       "      <th>0</th>\n",
       "      <td>1.358</td>\n",
       "    </tr>\n",
       "    <tr>\n",
       "      <th>1</th>\n",
       "      <td>0.9283</td>\n",
       "    </tr>\n",
       "    <tr>\n",
       "      <th>2</th>\n",
       "      <td>0.7262</td>\n",
       "    </tr>\n",
       "    <tr>\n",
       "      <th>3</th>\n",
       "      <td>0.6015</td>\n",
       "    </tr>\n",
       "    <tr>\n",
       "      <th>4</th>\n",
       "      <td>0.497</td>\n",
       "    </tr>\n",
       "    <tr>\n",
       "      <th>...</th>\n",
       "      <td>...</td>\n",
       "    </tr>\n",
       "    <tr>\n",
       "      <th>95</th>\n",
       "      <td>0.0121</td>\n",
       "    </tr>\n",
       "    <tr>\n",
       "      <th>96</th>\n",
       "      <td>0.0107</td>\n",
       "    </tr>\n",
       "    <tr>\n",
       "      <th>97</th>\n",
       "      <td>0.012</td>\n",
       "    </tr>\n",
       "    <tr>\n",
       "      <th>98</th>\n",
       "      <td>0.0086</td>\n",
       "    </tr>\n",
       "    <tr>\n",
       "      <th>99</th>\n",
       "      <td>0.0134</td>\n",
       "    </tr>\n",
       "  </tbody>\n",
       "</table>\n",
       "<p>100 rows × 1 columns</p>\n",
       "</div>"
      ],
      "text/plain": [
       "      loss\n",
       "0    1.358\n",
       "1   0.9283\n",
       "2   0.7262\n",
       "3   0.6015\n",
       "4    0.497\n",
       "..     ...\n",
       "95  0.0121\n",
       "96  0.0107\n",
       "97   0.012\n",
       "98  0.0086\n",
       "99  0.0134\n",
       "\n",
       "[100 rows x 1 columns]"
      ]
     },
     "execution_count": 72,
     "metadata": {},
     "output_type": "execute_result"
    }
   ],
   "source": [
    "df_loss"
   ]
  },
  {
   "cell_type": "code",
   "execution_count": 73,
   "metadata": {},
   "outputs": [
    {
     "name": "stdout",
     "output_type": "stream",
     "text": [
      "test accuracy : 80.39%\n"
     ]
    }
   ],
   "source": [
    "correct = 0\n",
    "total = 0\n",
    "\n",
    "with torch.no_grad():\n",
    "    model.eval()\n",
    "    for input, label in test_loader:\n",
    "        x = input.to(device)\n",
    "        y = label.to(device)\n",
    "        outputs = model(x)\n",
    "        # value, pred = torch.max(outputs, 1)\n",
    "        # pred = torch.argmax(outputs, 1)\n",
    "\n",
    "        total += y.size(0)\n",
    "        correct += (torch.argmax(outputs, 1) == y).sum().item()\n",
    "    print(\"test accuracy : {}%\".format((100 * correct / total)))"
   ]
  }
 ],
 "metadata": {
  "kernelspec": {
   "display_name": "Python 3",
   "language": "python",
   "name": "python3"
  },
  "language_info": {
   "codemirror_mode": {
    "name": "ipython",
    "version": 3
   },
   "file_extension": ".py",
   "mimetype": "text/x-python",
   "name": "python",
   "nbconvert_exporter": "python",
   "pygments_lexer": "ipython3",
   "version": "3.11.8"
  }
 },
 "nbformat": 4,
 "nbformat_minor": 2
}
